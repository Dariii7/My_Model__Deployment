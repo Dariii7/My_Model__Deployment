{
 "cells": [
  {
   "cell_type": "code",
   "execution_count": 1,
   "id": "1310a7d2",
   "metadata": {},
   "outputs": [],
   "source": [
    "import numpy as np\n",
    "import pandas as pd\n",
    "import matplotlib.pyplot as plt\n",
    "import seaborn as sns\n",
    "from catboost import CatBoostClassifier, Pool, cv\n",
    "from sklearn.model_selection import train_test_split\n",
    "from sklearn.metrics import confusion_matrix, classification_report, accuracy_score\n",
    "import optuna\n",
    "from optuna.samplers import TPESampler\n",
    "import sqlite3\n",
    "from datetime import datetime\n",
    "\n",
    "# display all of the columns of the dataframe in the notebook\n",
    "pd.pandas.set_option('display.max_columns',None)\n",
    "\n",
    "%matplotlib inline"
   ]
  },
  {
   "cell_type": "code",
   "execution_count": 2,
   "id": "75aff1c2",
   "metadata": {},
   "outputs": [],
   "source": [
    "# Path to mock database\n",
    "SQL_PATH = 'C:/Users/Windows/Downloads/MockDatabase.db'\n",
    "\n",
    "# Path to model storage location\n",
    "MODEL_STORAGE_PATH = 'models/'"
   ]
  },
  {
   "cell_type": "code",
   "execution_count": 3,
   "id": "ee5d352d",
   "metadata": {},
   "outputs": [],
   "source": [
    "# Code in the following cells was adapted from: https://www.sqlitetutorial.net/sqlite-python/create-tables/\n",
    "def create_connection(db_file):\n",
    "    \"\"\" create a database connection to the SQLite database\n",
    "        specified by db_file\n",
    "    :param db_file: database file\n",
    "    :return: Connection object or None\n",
    "    \"\"\"\n",
    "    conn = None\n",
    "    try:\n",
    "        conn = sqlite3.connect(db_file)\n",
    "        return conn\n",
    "    except Error as e:\n",
    "        print(e)\n",
    "\n",
    "    return conn"
   ]
  },
  {
   "cell_type": "markdown",
   "id": "fb13aff9",
   "metadata": {},
   "source": [
    "# Data Analysis"
   ]
  },
  {
   "cell_type": "code",
   "execution_count": 5,
   "id": "694ad94b",
   "metadata": {},
   "outputs": [
    {
     "name": "stdout",
     "output_type": "stream",
     "text": [
      "(1836, 12)\n"
     ]
    },
    {
     "data": {
      "text/html": [
       "<div>\n",
       "<style scoped>\n",
       "    .dataframe tbody tr th:only-of-type {\n",
       "        vertical-align: middle;\n",
       "    }\n",
       "\n",
       "    .dataframe tbody tr th {\n",
       "        vertical-align: top;\n",
       "    }\n",
       "\n",
       "    .dataframe thead th {\n",
       "        text-align: right;\n",
       "    }\n",
       "</style>\n",
       "<table border=\"1\" class=\"dataframe\">\n",
       "  <thead>\n",
       "    <tr style=\"text-align: right;\">\n",
       "      <th></th>\n",
       "      <th>Age</th>\n",
       "      <th>Sex</th>\n",
       "      <th>ChestPainType</th>\n",
       "      <th>RestingBP</th>\n",
       "      <th>Cholesterol</th>\n",
       "      <th>FastingBS</th>\n",
       "      <th>RestingECG</th>\n",
       "      <th>MaxHR</th>\n",
       "      <th>ExerciseAngina</th>\n",
       "      <th>Oldpeak</th>\n",
       "      <th>ST_Slope</th>\n",
       "      <th>HeartDisease</th>\n",
       "    </tr>\n",
       "  </thead>\n",
       "  <tbody>\n",
       "    <tr>\n",
       "      <th>0</th>\n",
       "      <td>40</td>\n",
       "      <td>M</td>\n",
       "      <td>ATA</td>\n",
       "      <td>140</td>\n",
       "      <td>289</td>\n",
       "      <td>0</td>\n",
       "      <td>Normal</td>\n",
       "      <td>172</td>\n",
       "      <td>N</td>\n",
       "      <td>0.0</td>\n",
       "      <td>Up</td>\n",
       "      <td>0</td>\n",
       "    </tr>\n",
       "    <tr>\n",
       "      <th>1</th>\n",
       "      <td>49</td>\n",
       "      <td>F</td>\n",
       "      <td>NAP</td>\n",
       "      <td>160</td>\n",
       "      <td>180</td>\n",
       "      <td>0</td>\n",
       "      <td>Normal</td>\n",
       "      <td>156</td>\n",
       "      <td>N</td>\n",
       "      <td>1.0</td>\n",
       "      <td>Flat</td>\n",
       "      <td>1</td>\n",
       "    </tr>\n",
       "    <tr>\n",
       "      <th>2</th>\n",
       "      <td>37</td>\n",
       "      <td>M</td>\n",
       "      <td>ATA</td>\n",
       "      <td>130</td>\n",
       "      <td>283</td>\n",
       "      <td>0</td>\n",
       "      <td>ST</td>\n",
       "      <td>98</td>\n",
       "      <td>N</td>\n",
       "      <td>0.0</td>\n",
       "      <td>Up</td>\n",
       "      <td>0</td>\n",
       "    </tr>\n",
       "    <tr>\n",
       "      <th>3</th>\n",
       "      <td>48</td>\n",
       "      <td>F</td>\n",
       "      <td>ASY</td>\n",
       "      <td>138</td>\n",
       "      <td>214</td>\n",
       "      <td>0</td>\n",
       "      <td>Normal</td>\n",
       "      <td>108</td>\n",
       "      <td>Y</td>\n",
       "      <td>1.5</td>\n",
       "      <td>Flat</td>\n",
       "      <td>1</td>\n",
       "    </tr>\n",
       "    <tr>\n",
       "      <th>4</th>\n",
       "      <td>54</td>\n",
       "      <td>M</td>\n",
       "      <td>NAP</td>\n",
       "      <td>150</td>\n",
       "      <td>195</td>\n",
       "      <td>0</td>\n",
       "      <td>Normal</td>\n",
       "      <td>122</td>\n",
       "      <td>N</td>\n",
       "      <td>0.0</td>\n",
       "      <td>Up</td>\n",
       "      <td>0</td>\n",
       "    </tr>\n",
       "  </tbody>\n",
       "</table>\n",
       "</div>"
      ],
      "text/plain": [
       "   Age Sex ChestPainType  RestingBP  Cholesterol  FastingBS RestingECG  MaxHR  \\\n",
       "0   40   M           ATA        140          289          0     Normal    172   \n",
       "1   49   F           NAP        160          180          0     Normal    156   \n",
       "2   37   M           ATA        130          283          0         ST     98   \n",
       "3   48   F           ASY        138          214          0     Normal    108   \n",
       "4   54   M           NAP        150          195          0     Normal    122   \n",
       "\n",
       "  ExerciseAngina  Oldpeak ST_Slope  HeartDisease  \n",
       "0              N      0.0       Up             0  \n",
       "1              N      1.0     Flat             1  \n",
       "2              N      0.0       Up             0  \n",
       "3              Y      1.5     Flat             1  \n",
       "4              N      0.0       Up             0  "
      ]
     },
     "execution_count": 5,
     "metadata": {},
     "output_type": "execute_result"
    }
   ],
   "source": [
    "# Read in training data\n",
    "conn = create_connection(SQL_PATH)\n",
    "\n",
    "read_query = '''SELECT Age, Sex, ChestPainType, RestingBP, Cholesterol, \n",
    "              FastingBS, RestingECG, MaxHR, ExerciseAngina, Oldpeak, ST_Slope, HeartDisease\n",
    "              FROM heart'''\n",
    "\n",
    "data_train = pd.read_sql(read_query, conn)\n",
    "conn.close()\n",
    "\n",
    "print(data_train.shape)\n",
    "data_train.head()"
   ]
  },
  {
   "cell_type": "code",
   "execution_count": 6,
   "id": "a7d579ae",
   "metadata": {},
   "outputs": [
    {
     "data": {
      "text/plain": [
       "Age               0.0\n",
       "Sex               0.0\n",
       "ChestPainType     0.0\n",
       "RestingBP         0.0\n",
       "Cholesterol       0.0\n",
       "FastingBS         0.0\n",
       "RestingECG        0.0\n",
       "MaxHR             0.0\n",
       "ExerciseAngina    0.0\n",
       "Oldpeak           0.0\n",
       "ST_Slope          0.0\n",
       "HeartDisease      0.0\n",
       "dtype: float64"
      ]
     },
     "execution_count": 6,
     "metadata": {},
     "output_type": "execute_result"
    }
   ],
   "source": [
    "# How much data is missing\n",
    "data_train.isna().sum() / len(data_train) # This will output the proportion of missing values in each column"
   ]
  },
  {
   "cell_type": "code",
   "execution_count": 7,
   "id": "6e7e9429",
   "metadata": {},
   "outputs": [
    {
     "name": "stderr",
     "output_type": "stream",
     "text": [
      "C:\\Users\\Windows\\AppData\\Local\\Temp\\ipykernel_13464\\2341797596.py:2: DeprecationWarning: `np.object` is a deprecated alias for the builtin `object`. To silence this warning, use `object` by itself. Doing this will not modify any behavior and is safe. \n",
      "Deprecated in NumPy 1.20; for more details and guidance: https://numpy.org/devdocs/release/1.20.0-notes.html#deprecations\n",
      "  cat_cols = [col for col in data_train.columns if data_train[col].dtype == np.object]\n",
      "C:\\Users\\Windows\\AppData\\Local\\Temp\\ipykernel_13464\\2341797596.py:3: DeprecationWarning: `np.object` is a deprecated alias for the builtin `object`. To silence this warning, use `object` by itself. Doing this will not modify any behavior and is safe. \n",
      "Deprecated in NumPy 1.20; for more details and guidance: https://numpy.org/devdocs/release/1.20.0-notes.html#deprecations\n",
      "  num_cols = [col for col in data_train.columns if data_train[col].dtype != np.object]\n"
     ]
    }
   ],
   "source": [
    "# Separate columns by data type for analysis\n",
    "cat_cols = [col for col in data_train.columns if data_train[col].dtype == np.object]\n",
    "num_cols = [col for col in data_train.columns if data_train[col].dtype != np.object]\n",
    "assert len(cat_cols) + len(num_cols) == data_train.shape[1]"
   ]
  },
  {
   "cell_type": "code",
   "execution_count": 8,
   "id": "837d4944",
   "metadata": {},
   "outputs": [
    {
     "data": {
      "text/plain": [
       "Text(0.5, 1.0, 'Feature Cardinality')"
      ]
     },
     "execution_count": 8,
     "metadata": {},
     "output_type": "execute_result"
    },
    {
     "data": {
      "image/png": "[encoded data removed]",
      "text/plain": [
       "<Figure size 1296x432 with 1 Axes>"
      ]
     },
     "metadata": {
      "needs_background": "light"
     },
     "output_type": "display_data"
    }
   ],
   "source": [
    "# Look at cadinality of the categorical columns\n",
    "cards = [len(data_train[col].unique()) for col in cat_cols]\n",
    "\n",
    "fig,ax = plt.subplots(figsize=(18,6))\n",
    "sns.barplot(x=cat_cols, y=cards)\n",
    "ax.set_xlabel('Feature')\n",
    "ax.set_ylabel('Number of Categories')\n",
    "ax.set_title('Feature Cardinality')"
   ]
  },
  {
   "cell_type": "code",
   "execution_count": 9,
   "id": "3ab1acb7",
   "metadata": {},
   "outputs": [
    {
     "name": "stderr",
     "output_type": "stream",
     "text": [
      "C:\\Users\\Windows\\Desktop\\heart-disease-detection\\env\\lib\\site-packages\\seaborn\\distributions.py:2619: FutureWarning: `distplot` is a deprecated function and will be removed in a future version. Please adapt your code to use either `displot` (a figure-level function with similar flexibility) or `histplot` (an axes-level function for histograms).\n",
      "  warnings.warn(msg, FutureWarning)\n"
     ]
    },
    {
     "data": {
      "text/plain": [
       "<AxesSubplot:xlabel='Cholesterol', ylabel='Density'>"
      ]
     },
     "execution_count": 9,
     "metadata": {},
     "output_type": "execute_result"
    },
    {
     "data": {
      "image/png": "[encoded data removed]",
      "text/plain": [
       "<Figure size 720x432 with 1 Axes>"
      ]
     },
     "metadata": {
      "needs_background": "light"
     },
     "output_type": "display_data"
    }
   ],
   "source": [
    "# City development index distribution\n",
    "fig,ax = plt.subplots(figsize=(10,6))\n",
    "sns.distplot(data_train['Cholesterol'])"
   ]
  },
  {
   "cell_type": "code",
   "execution_count": 10,
   "id": "e79c913c",
   "metadata": {},
   "outputs": [
    {
     "name": "stderr",
     "output_type": "stream",
     "text": [
      "C:\\Users\\Windows\\Desktop\\heart-disease-detection\\env\\lib\\site-packages\\seaborn\\distributions.py:2619: FutureWarning: `distplot` is a deprecated function and will be removed in a future version. Please adapt your code to use either `displot` (a figure-level function with similar flexibility) or `histplot` (an axes-level function for histograms).\n",
      "  warnings.warn(msg, FutureWarning)\n"
     ]
    },
    {
     "data": {
      "text/plain": [
       "<AxesSubplot:xlabel='RestingBP', ylabel='Density'>"
      ]
     },
     "execution_count": 10,
     "metadata": {},
     "output_type": "execute_result"
    },
    {
     "data": {
      "image/png": "[encoded data removed]",
      "text/plain": [
       "<Figure size 720x432 with 1 Axes>"
      ]
     },
     "metadata": {
      "needs_background": "light"
     },
     "output_type": "display_data"
    }
   ],
   "source": [
    "# Training hours distribution\n",
    "fig,ax = plt.subplots(figsize=(10,6))\n",
    "sns.distplot(data_train['RestingBP'])"
   ]
  },
  {
   "cell_type": "code",
   "execution_count": 11,
   "id": "8a87d43f",
   "metadata": {},
   "outputs": [
    {
     "name": "stdout",
     "output_type": "stream",
     "text": [
      "1    0.553377\n",
      "0    0.446623\n",
      "Name: HeartDisease, dtype: float64\n"
     ]
    },
    {
     "name": "stderr",
     "output_type": "stream",
     "text": [
      "C:\\Users\\Windows\\Desktop\\heart-disease-detection\\env\\lib\\site-packages\\seaborn\\_decorators.py:36: FutureWarning: Pass the following variable as a keyword arg: x. From version 0.12, the only valid positional argument will be `data`, and passing other arguments without an explicit keyword will result in an error or misinterpretation.\n",
      "  warnings.warn(\n"
     ]
    },
    {
     "data": {
      "text/plain": [
       "<AxesSubplot:xlabel='HeartDisease', ylabel='count'>"
      ]
     },
     "execution_count": 11,
     "metadata": {},
     "output_type": "execute_result"
    },
    {
     "data": {
      "image/png": "[encoded data removed]",
      "text/plain": [
       "<Figure size 720x432 with 1 Axes>"
      ]
     },
     "metadata": {
      "needs_background": "light"
     },
     "output_type": "display_data"
    }
   ],
   "source": [
    "# Target distribution\n",
    "fig,ax = plt.subplots(figsize=(10,6))\n",
    "print(data_train['HeartDisease'].value_counts() / len(data_train))\n",
    "sns.countplot(data_train['HeartDisease'])"
   ]
  },
  {
   "cell_type": "markdown",
   "id": "c2e18c95",
   "metadata": {},
   "source": [
    "# Preprocessing "
   ]
  },
  {
   "cell_type": "code",
   "execution_count": 12,
   "id": "6a48cc97",
   "metadata": {},
   "outputs": [
    {
     "data": {
      "text/plain": [
       "Age               0\n",
       "Sex               0\n",
       "ChestPainType     0\n",
       "RestingBP         0\n",
       "Cholesterol       0\n",
       "FastingBS         0\n",
       "RestingECG        0\n",
       "MaxHR             0\n",
       "ExerciseAngina    0\n",
       "Oldpeak           0\n",
       "ST_Slope          0\n",
       "HeartDisease      0\n",
       "dtype: int64"
      ]
     },
     "execution_count": 12,
     "metadata": {},
     "output_type": "execute_result"
    }
   ],
   "source": [
    "# Convert missing values to string\n",
    "data_train.replace(np.nan,'NaN',inplace=True)\n",
    "data_train.isna().sum()"
   ]
  },
  {
   "cell_type": "code",
   "execution_count": 13,
   "id": "f9b8d0af",
   "metadata": {},
   "outputs": [
    {
     "name": "stdout",
     "output_type": "stream",
     "text": [
      "(1468, 11)\n",
      "(368, 11)\n"
     ]
    },
    {
     "data": {
      "text/html": [
       "<div>\n",
       "<style scoped>\n",
       "    .dataframe tbody tr th:only-of-type {\n",
       "        vertical-align: middle;\n",
       "    }\n",
       "\n",
       "    .dataframe tbody tr th {\n",
       "        vertical-align: top;\n",
       "    }\n",
       "\n",
       "    .dataframe thead th {\n",
       "        text-align: right;\n",
       "    }\n",
       "</style>\n",
       "<table border=\"1\" class=\"dataframe\">\n",
       "  <thead>\n",
       "    <tr style=\"text-align: right;\">\n",
       "      <th></th>\n",
       "      <th>Age</th>\n",
       "      <th>Sex</th>\n",
       "      <th>ChestPainType</th>\n",
       "      <th>RestingBP</th>\n",
       "      <th>Cholesterol</th>\n",
       "      <th>FastingBS</th>\n",
       "      <th>RestingECG</th>\n",
       "      <th>MaxHR</th>\n",
       "      <th>ExerciseAngina</th>\n",
       "      <th>Oldpeak</th>\n",
       "      <th>ST_Slope</th>\n",
       "    </tr>\n",
       "  </thead>\n",
       "  <tbody>\n",
       "    <tr>\n",
       "      <th>1589</th>\n",
       "      <td>61</td>\n",
       "      <td>M</td>\n",
       "      <td>ASY</td>\n",
       "      <td>138</td>\n",
       "      <td>166</td>\n",
       "      <td>0</td>\n",
       "      <td>LVH</td>\n",
       "      <td>125</td>\n",
       "      <td>Y</td>\n",
       "      <td>3.6</td>\n",
       "      <td>Flat</td>\n",
       "    </tr>\n",
       "    <tr>\n",
       "      <th>339</th>\n",
       "      <td>64</td>\n",
       "      <td>F</td>\n",
       "      <td>ASY</td>\n",
       "      <td>95</td>\n",
       "      <td>0</td>\n",
       "      <td>1</td>\n",
       "      <td>Normal</td>\n",
       "      <td>145</td>\n",
       "      <td>N</td>\n",
       "      <td>1.1</td>\n",
       "      <td>Down</td>\n",
       "    </tr>\n",
       "    <tr>\n",
       "      <th>608</th>\n",
       "      <td>62</td>\n",
       "      <td>M</td>\n",
       "      <td>ASY</td>\n",
       "      <td>158</td>\n",
       "      <td>170</td>\n",
       "      <td>0</td>\n",
       "      <td>ST</td>\n",
       "      <td>138</td>\n",
       "      <td>Y</td>\n",
       "      <td>0.0</td>\n",
       "      <td>Flat</td>\n",
       "    </tr>\n",
       "    <tr>\n",
       "      <th>1099</th>\n",
       "      <td>51</td>\n",
       "      <td>M</td>\n",
       "      <td>ATA</td>\n",
       "      <td>130</td>\n",
       "      <td>224</td>\n",
       "      <td>0</td>\n",
       "      <td>Normal</td>\n",
       "      <td>150</td>\n",
       "      <td>N</td>\n",
       "      <td>0.0</td>\n",
       "      <td>Up</td>\n",
       "    </tr>\n",
       "    <tr>\n",
       "      <th>1178</th>\n",
       "      <td>46</td>\n",
       "      <td>M</td>\n",
       "      <td>ATA</td>\n",
       "      <td>140</td>\n",
       "      <td>275</td>\n",
       "      <td>0</td>\n",
       "      <td>Normal</td>\n",
       "      <td>165</td>\n",
       "      <td>Y</td>\n",
       "      <td>0.0</td>\n",
       "      <td>Up</td>\n",
       "    </tr>\n",
       "  </tbody>\n",
       "</table>\n",
       "</div>"
      ],
      "text/plain": [
       "      Age Sex ChestPainType  RestingBP  Cholesterol  FastingBS RestingECG  \\\n",
       "1589   61   M           ASY        138          166          0        LVH   \n",
       "339    64   F           ASY         95            0          1     Normal   \n",
       "608    62   M           ASY        158          170          0         ST   \n",
       "1099   51   M           ATA        130          224          0     Normal   \n",
       "1178   46   M           ATA        140          275          0     Normal   \n",
       "\n",
       "      MaxHR ExerciseAngina  Oldpeak ST_Slope  \n",
       "1589    125              Y      3.6     Flat  \n",
       "339     145              N      1.1     Down  \n",
       "608     138              Y      0.0     Flat  \n",
       "1099    150              N      0.0       Up  \n",
       "1178    165              Y      0.0       Up  "
      ]
     },
     "execution_count": 13,
     "metadata": {},
     "output_type": "execute_result"
    }
   ],
   "source": [
    "# Create training and testing data\n",
    "x, y = data_train.dropna().drop(['HeartDisease'], axis=1), data_train.dropna()['HeartDisease']\n",
    "    \n",
    "\n",
    "# Add a random feature to analyze important features\n",
    "#x['rv'] = np.random.normal(size=len(x))\n",
    "\n",
    "x_train, x_test, y_train, y_test = train_test_split(x, y, test_size=0.2, random_state=13)\n",
    "\n",
    "print(x_train.shape)\n",
    "print(x_test.shape)\n",
    "x_train.head()"
   ]
  },
  {
   "cell_type": "markdown",
   "id": "e05c94cf",
   "metadata": {},
   "source": [
    "# Initial model training"
   ]
  },
  {
   "cell_type": "code",
   "execution_count": 14,
   "id": "cff01170",
   "metadata": {},
   "outputs": [
    {
     "data": {
      "application/vnd.jupyter.widget-view+json": {
       "model_id": "4fb64c2176a54d2c9ab5f50bda0f79e5",
       "version_major": 2,
       "version_minor": 0
      },
      "text/plain": [
       "MetricVisualizer(layout=Layout(align_self='stretch', height='500px'))"
      ]
     },
     "metadata": {},
     "output_type": "display_data"
    },
    {
     "name": "stdout",
     "output_type": "stream",
     "text": [
      "Learning rate set to 0.0173\n",
      "0:\tlearn: 0.6791654\ttest: 0.6793903\tbest: 0.6793903 (0)\ttotal: 164ms\tremaining: 13m 39s\n",
      "50:\tlearn: 0.3860353\ttest: 0.3978954\tbest: 0.3978954 (50)\ttotal: 1.01s\tremaining: 1m 38s\n",
      "100:\tlearn: 0.3185748\ttest: 0.3355991\tbest: 0.3355991 (100)\ttotal: 2.01s\tremaining: 1m 37s\n",
      "150:\tlearn: 0.2903710\ttest: 0.3159914\tbest: 0.3159914 (150)\ttotal: 2.92s\tremaining: 1m 33s\n",
      "200:\tlearn: 0.2735277\ttest: 0.3075602\tbest: 0.3075602 (200)\ttotal: 3.76s\tremaining: 1m 29s\n",
      "250:\tlearn: 0.2594977\ttest: 0.2994185\tbest: 0.2994185 (250)\ttotal: 4.44s\tremaining: 1m 23s\n",
      "300:\tlearn: 0.2495816\ttest: 0.2946817\tbest: 0.2946817 (300)\ttotal: 5.08s\tremaining: 1m 19s\n",
      "350:\tlearn: 0.2416920\ttest: 0.2919905\tbest: 0.2919279 (349)\ttotal: 5.75s\tremaining: 1m 16s\n",
      "400:\tlearn: 0.2319228\ttest: 0.2881710\tbest: 0.2881049 (397)\ttotal: 6.46s\tremaining: 1m 14s\n",
      "450:\tlearn: 0.2240258\ttest: 0.2848407\tbest: 0.2848407 (450)\ttotal: 7.14s\tremaining: 1m 12s\n",
      "500:\tlearn: 0.2155413\ttest: 0.2805765\tbest: 0.2805035 (498)\ttotal: 7.8s\tremaining: 1m 10s\n",
      "550:\tlearn: 0.2083520\ttest: 0.2771563\tbest: 0.2771563 (550)\ttotal: 8.5s\tremaining: 1m 8s\n",
      "600:\tlearn: 0.1993020\ttest: 0.2722006\tbest: 0.2721947 (598)\ttotal: 9.19s\tremaining: 1m 7s\n",
      "650:\tlearn: 0.1925738\ttest: 0.2692771\tbest: 0.2691498 (648)\ttotal: 9.87s\tremaining: 1m 5s\n",
      "700:\tlearn: 0.1843453\ttest: 0.2671858\tbest: 0.2671858 (700)\ttotal: 10.6s\tremaining: 1m 4s\n",
      "750:\tlearn: 0.1759953\ttest: 0.2652786\tbest: 0.2652786 (750)\ttotal: 11.2s\tremaining: 1m 3s\n",
      "800:\tlearn: 0.1681775\ttest: 0.2616800\tbest: 0.2616800 (800)\ttotal: 12s\tremaining: 1m 2s\n",
      "850:\tlearn: 0.1613980\ttest: 0.2597135\tbest: 0.2595912 (847)\ttotal: 12.7s\tremaining: 1m 1s\n",
      "900:\tlearn: 0.1559446\ttest: 0.2577169\tbest: 0.2576789 (896)\ttotal: 13.4s\tremaining: 1m 1s\n",
      "950:\tlearn: 0.1505297\ttest: 0.2561239\tbest: 0.2560238 (949)\ttotal: 14.1s\tremaining: 1m\n",
      "1000:\tlearn: 0.1453288\ttest: 0.2541032\tbest: 0.2541032 (1000)\ttotal: 14.8s\tremaining: 59.2s\n",
      "1050:\tlearn: 0.1404066\ttest: 0.2517853\tbest: 0.2517847 (1049)\ttotal: 15.5s\tremaining: 58.3s\n",
      "1100:\tlearn: 0.1355474\ttest: 0.2486508\tbest: 0.2486508 (1100)\ttotal: 16.2s\tremaining: 57.5s\n",
      "1150:\tlearn: 0.1303588\ttest: 0.2462313\tbest: 0.2462229 (1149)\ttotal: 16.9s\tremaining: 56.6s\n",
      "1200:\tlearn: 0.1260918\ttest: 0.2445339\tbest: 0.2444906 (1199)\ttotal: 17.6s\tremaining: 55.8s\n",
      "1250:\tlearn: 0.1222459\ttest: 0.2431050\tbest: 0.2430507 (1244)\ttotal: 18.4s\tremaining: 55.2s\n",
      "Stopped by overfitting detector  (20 iterations wait)\n",
      "\n",
      "bestTest = 0.2430507064\n",
      "bestIteration = 1244\n",
      "\n",
      "Shrink model to first 1245 iterations.\n"
     ]
    },
    {
     "data": {
      "text/plain": [
       "<catboost.core.CatBoostClassifier at 0x21035b47a60>"
      ]
     },
     "execution_count": 14,
     "metadata": {},
     "output_type": "execute_result"
    }
   ],
   "source": [
    "# Specify index of categotical features in input data\n",
    "cat_features = [x.columns.get_loc(col) for col in cat_cols]\n",
    "\n",
    "# Model parameter dict\n",
    "params = {'iterations':5000,\n",
    "          'loss_function':'Logloss',\n",
    "          'depth':4,\n",
    "          'early_stopping_rounds':20,\n",
    "          'custom_loss':['AUC', 'Accuracy']}\n",
    "\n",
    "# Instantiate model\n",
    "model = CatBoostClassifier(**params)\n",
    "\n",
    "# Fit model\n",
    "model.fit(\n",
    "    x_train,\n",
    "    y_train,\n",
    "    cat_features=cat_features,\n",
    "    eval_set=(x_test, y_test),\n",
    "    verbose=50,\n",
    "    plot=True\n",
    ")"
   ]
  },
  {
   "cell_type": "code",
   "execution_count": 15,
   "id": "509bf810",
   "metadata": {},
   "outputs": [],
   "source": [
    "# Make predictions on test data\n",
    "preds = model.predict(x_test)"
   ]
  },
  {
   "cell_type": "code",
   "execution_count": 16,
   "id": "be7e5e27",
   "metadata": {},
   "outputs": [
    {
     "name": "stdout",
     "output_type": "stream",
     "text": [
      "              precision    recall  f1-score   support\n",
      "\n",
      "           0       0.93      0.87      0.90       164\n",
      "           1       0.90      0.95      0.92       204\n",
      "\n",
      "    accuracy                           0.91       368\n",
      "   macro avg       0.91      0.91      0.91       368\n",
      "weighted avg       0.91      0.91      0.91       368\n",
      "\n",
      "[[142  22]\n",
      " [ 11 193]]\n"
     ]
    }
   ],
   "source": [
    "# Evaluate predictions\n",
    "print(classification_report(y_test, preds))\n",
    "print(confusion_matrix(y_test, preds))"
   ]
  },
  {
   "cell_type": "code",
   "execution_count": 17,
   "id": "ef4a14e0",
   "metadata": {},
   "outputs": [
    {
     "data": {
      "text/plain": [
       "<AxesSubplot:xlabel='importance', ylabel='feature'>"
      ]
     },
     "execution_count": 17,
     "metadata": {},
     "output_type": "execute_result"
    },
    {
     "data": {
      "image/png": "[encoded data removed]",
      "text/plain": [
       "<Figure size 720x432 with 1 Axes>"
      ]
     },
     "metadata": {
      "needs_background": "light"
     },
     "output_type": "display_data"
    }
   ],
   "source": [
    "fig,ax = plt.subplots(figsize=(10,6))\n",
    "feature_importance_data = pd.DataFrame({'feature':model.feature_names_, 'importance':model.feature_importances_})\n",
    "feature_importance_data.sort_values('importance', ascending=False, inplace=True)\n",
    "sns.barplot(x='importance', y='feature', data=feature_importance_data)"
   ]
  },
  {
   "cell_type": "markdown",
   "id": "38226624",
   "metadata": {},
   "source": [
    "# Hyperparameter tuning"
   ]
  },
  {
   "cell_type": "code",
   "execution_count": 18,
   "id": "41588570",
   "metadata": {},
   "outputs": [],
   "source": [
    "def classification_objective(trial):\n",
    "\n",
    "    params = {\n",
    "        \"loss_function\":\"Logloss\",\n",
    "        'custom_loss':['Accuracy'],\n",
    "        #\"learning_rate\": trial.suggest_loguniform(\"learning_rate\", 1e-5, 1e0),\n",
    "        \"l2_leaf_reg\": trial.suggest_loguniform(\"l2_leaf_reg\", 1e-2, 1e0),\n",
    "        \"colsample_bylevel\": trial.suggest_float(\"colsample_bylevel\", 0.01, 1),\n",
    "        \"depth\": trial.suggest_int(\"depth\", 1, 10),\n",
    "        \"boosting_type\": trial.suggest_categorical(\"boosting_type\", [\"Ordered\", \"Plain\"]),\n",
    "        \"bootstrap_type\": trial.suggest_categorical(\"bootstrap_type\", [\"Bayesian\", \"Bernoulli\", \"MVS\"]),\n",
    "        \"min_data_in_leaf\": trial.suggest_int(\"min_data_in_leaf\", 2, 20),\n",
    "        \"one_hot_max_size\": trial.suggest_int(\"one_hot_max_size\", 2, 20)}\n",
    "    \n",
    "    if params[\"bootstrap_type\"] == \"Bayesian\":\n",
    "        \n",
    "        params[\"bagging_temperature\"] = trial.suggest_float(\"bagging_temperature\", 0, 10)\n",
    "        \n",
    "    elif params[\"bootstrap_type\"] == \"Bernoulli\":\n",
    "        \n",
    "        params[\"subsample\"] = trial.suggest_float(\"subsample\", 0.1, 1)\n",
    "\n",
    "    cv_data = cv(\n",
    "    params = params,\n",
    "    pool = Pool(x, label=y, cat_features=cat_features),\n",
    "    fold_count=5,\n",
    "    shuffle=True,\n",
    "    partition_random_seed=0,\n",
    "    plot=False,\n",
    "    stratified=False,\n",
    "    verbose=False)\n",
    "    \n",
    "    return cv_data['test-Accuracy-mean'].values[-1]"
   ]
  },
  {
   "cell_type": "code",
   "execution_count": 19,
   "id": "bef4d20c",
   "metadata": {
    "scrolled": true
   },
   "outputs": [
    {
     "name": "stderr",
     "output_type": "stream",
     "text": [
      "\u001b[32m[I 2022-06-12 18:21:00,848]\u001b[0m A new study created in memory with name: no-name-ee70405d-5056-423a-be0b-104fd0f54e13\u001b[0m\n"
     ]
    },
    {
     "name": "stdout",
     "output_type": "stream",
     "text": [
      "Training on fold [0/5]\n",
      "\n",
      "bestTest = 0.1487994874\n",
      "bestIteration = 991\n",
      "\n",
      "Training on fold [1/5]\n",
      "\n",
      "bestTest = 0.07641179741\n",
      "bestIteration = 997\n",
      "\n",
      "Training on fold [2/5]\n",
      "\n",
      "bestTest = 0.1413506567\n",
      "bestIteration = 999\n",
      "\n",
      "Training on fold [3/5]\n",
      "\n",
      "bestTest = 0.1518470699\n",
      "bestIteration = 999\n",
      "\n",
      "Training on fold [4/5]\n"
     ]
    },
    {
     "name": "stderr",
     "output_type": "stream",
     "text": [
      "\u001b[32m[I 2022-06-12 18:21:10,999]\u001b[0m Trial 0 finished with value: 0.964050467954034 and parameters: {'l2_leaf_reg': 0.5197210529705947, 'colsample_bylevel': 0.11547524627770017, 'depth': 10, 'boosting_type': 'Plain', 'bootstrap_type': 'Bernoulli', 'min_data_in_leaf': 2, 'one_hot_max_size': 20, 'subsample': 0.5786486263876396}. Best is trial 0 with value: 0.964050467954034.\u001b[0m\n"
     ]
    },
    {
     "name": "stdout",
     "output_type": "stream",
     "text": [
      "\n",
      "bestTest = 0.1103514349\n",
      "bestIteration = 996\n",
      "\n",
      "Training on fold [0/5]\n",
      "\n",
      "bestTest = 0.196252424\n",
      "bestIteration = 999\n",
      "\n",
      "Training on fold [1/5]\n",
      "\n",
      "bestTest = 0.1300315604\n",
      "bestIteration = 999\n",
      "\n",
      "Training on fold [2/5]\n",
      "\n",
      "bestTest = 0.1785102424\n",
      "bestIteration = 998\n",
      "\n",
      "Training on fold [3/5]\n",
      "\n",
      "bestTest = 0.1957779071\n",
      "bestIteration = 988\n",
      "\n",
      "Training on fold [4/5]\n"
     ]
    },
    {
     "name": "stderr",
     "output_type": "stream",
     "text": [
      "\u001b[32m[I 2022-06-12 18:21:41,735]\u001b[0m Trial 1 finished with value: 0.9422654306361805 and parameters: {'l2_leaf_reg': 0.22580483274567623, 'colsample_bylevel': 0.39460791113460714, 'depth': 4, 'boosting_type': 'Ordered', 'bootstrap_type': 'Bernoulli', 'min_data_in_leaf': 19, 'one_hot_max_size': 6, 'subsample': 0.5697930931647676}. Best is trial 0 with value: 0.964050467954034.\u001b[0m\n"
     ]
    },
    {
     "name": "stdout",
     "output_type": "stream",
     "text": [
      "\n",
      "bestTest = 0.1593661963\n",
      "bestIteration = 999\n",
      "\n",
      "Training on fold [0/5]\n",
      "\n",
      "bestTest = 0.09977962616\n",
      "bestIteration = 342\n",
      "\n",
      "Training on fold [1/5]\n",
      "\n",
      "bestTest = 0.008920709989\n",
      "bestIteration = 925\n",
      "\n",
      "Training on fold [2/5]\n",
      "\n",
      "bestTest = 0.06941653121\n",
      "bestIteration = 452\n",
      "\n",
      "Training on fold [3/5]\n",
      "\n",
      "bestTest = 0.07702383129\n",
      "bestIteration = 453\n",
      "\n",
      "Training on fold [4/5]\n"
     ]
    },
    {
     "name": "stderr",
     "output_type": "stream",
     "text": [
      "\u001b[32m[I 2022-06-12 18:22:16,086]\u001b[0m Trial 2 finished with value: 0.9793093235398651 and parameters: {'l2_leaf_reg': 0.24378781708280897, 'colsample_bylevel': 0.4422943073348515, 'depth': 9, 'boosting_type': 'Plain', 'bootstrap_type': 'Bernoulli', 'min_data_in_leaf': 11, 'one_hot_max_size': 19, 'subsample': 0.7480193656792052}. Best is trial 2 with value: 0.9793093235398651.\u001b[0m\n"
     ]
    },
    {
     "name": "stdout",
     "output_type": "stream",
     "text": [
      "\n",
      "bestTest = 0.04469536447\n",
      "bestIteration = 592\n",
      "\n",
      "Training on fold [0/5]\n",
      "\n",
      "bestTest = 0.243409024\n",
      "bestIteration = 999\n",
      "\n",
      "Training on fold [1/5]\n",
      "\n",
      "bestTest = 0.1869572857\n",
      "bestIteration = 999\n",
      "\n",
      "Training on fold [2/5]\n",
      "\n",
      "bestTest = 0.227614185\n",
      "bestIteration = 998\n",
      "\n",
      "Training on fold [3/5]\n",
      "\n",
      "bestTest = 0.2334102828\n",
      "bestIteration = 999\n",
      "\n",
      "Training on fold [4/5]\n"
     ]
    },
    {
     "name": "stderr",
     "output_type": "stream",
     "text": [
      "\u001b[32m[I 2022-06-12 18:22:40,017]\u001b[0m Trial 3 finished with value: 0.9232051889586541 and parameters: {'l2_leaf_reg': 0.04110935309725955, 'colsample_bylevel': 0.15090565425551428, 'depth': 4, 'boosting_type': 'Ordered', 'bootstrap_type': 'Bernoulli', 'min_data_in_leaf': 12, 'one_hot_max_size': 9, 'subsample': 0.27286875064136806}. Best is trial 2 with value: 0.9793093235398651.\u001b[0m\n"
     ]
    },
    {
     "name": "stdout",
     "output_type": "stream",
     "text": [
      "\n",
      "bestTest = 0.2100512949\n",
      "bestIteration = 999\n",
      "\n",
      "Training on fold [0/5]\n",
      "\n",
      "bestTest = 0.1181468399\n",
      "bestIteration = 313\n",
      "\n",
      "Training on fold [1/5]\n",
      "\n",
      "bestTest = 0.007865155679\n",
      "bestIteration = 498\n",
      "\n",
      "Training on fold [2/5]\n",
      "\n",
      "bestTest = 0.06113628024\n",
      "bestIteration = 290\n",
      "\n",
      "Training on fold [3/5]\n",
      "\n",
      "bestTest = 0.07698630961\n",
      "bestIteration = 290\n",
      "\n",
      "Training on fold [4/5]\n"
     ]
    },
    {
     "name": "stderr",
     "output_type": "stream",
     "text": [
      "\u001b[32m[I 2022-06-12 18:23:05,780]\u001b[0m Trial 4 finished with value: 0.9771294870276034 and parameters: {'l2_leaf_reg': 0.01854962549326124, 'colsample_bylevel': 0.6694324126608565, 'depth': 8, 'boosting_type': 'Plain', 'bootstrap_type': 'MVS', 'min_data_in_leaf': 16, 'one_hot_max_size': 4}. Best is trial 2 with value: 0.9793093235398651.\u001b[0m\n"
     ]
    },
    {
     "name": "stdout",
     "output_type": "stream",
     "text": [
      "\n",
      "bestTest = 0.05377011771\n",
      "bestIteration = 370\n",
      "\n",
      "Training on fold [0/5]\n",
      "\n",
      "bestTest = 0.1985284142\n",
      "bestIteration = 999\n",
      "\n",
      "Training on fold [1/5]\n",
      "\n",
      "bestTest = 0.1187580493\n",
      "bestIteration = 999\n",
      "\n",
      "Training on fold [2/5]\n",
      "\n",
      "bestTest = 0.1754255647\n",
      "bestIteration = 992\n",
      "\n",
      "Training on fold [3/5]\n",
      "\n",
      "bestTest = 0.1782618224\n",
      "bestIteration = 998\n",
      "\n",
      "Training on fold [4/5]\n"
     ]
    },
    {
     "name": "stderr",
     "output_type": "stream",
     "text": [
      "\u001b[32m[I 2022-06-12 18:23:13,801]\u001b[0m Trial 5 finished with value: 0.94280890889705 and parameters: {'l2_leaf_reg': 0.03199756794702241, 'colsample_bylevel': 0.13922726710405042, 'depth': 5, 'boosting_type': 'Plain', 'bootstrap_type': 'Bernoulli', 'min_data_in_leaf': 20, 'one_hot_max_size': 16, 'subsample': 0.32599965794435076}. Best is trial 2 with value: 0.9793093235398651.\u001b[0m\n"
     ]
    },
    {
     "name": "stdout",
     "output_type": "stream",
     "text": [
      "\n",
      "bestTest = 0.1520945291\n",
      "bestIteration = 999\n",
      "\n",
      "Training on fold [0/5]\n",
      "\n",
      "bestTest = 0.3039166041\n",
      "bestIteration = 998\n",
      "\n",
      "Training on fold [1/5]\n",
      "\n",
      "bestTest = 0.2507265944\n",
      "bestIteration = 999\n",
      "\n",
      "Training on fold [2/5]\n",
      "\n",
      "bestTest = 0.2858562168\n",
      "bestIteration = 994\n",
      "\n",
      "Training on fold [3/5]\n",
      "\n",
      "bestTest = 0.2986462178\n",
      "bestIteration = 990\n",
      "\n",
      "Training on fold [4/5]\n"
     ]
    },
    {
     "name": "stderr",
     "output_type": "stream",
     "text": [
      "\u001b[32m[I 2022-06-12 18:23:22,509]\u001b[0m Trial 6 finished with value: 0.8943475299135175 and parameters: {'l2_leaf_reg': 0.018617871161804224, 'colsample_bylevel': 0.6768958222044658, 'depth': 2, 'boosting_type': 'Plain', 'bootstrap_type': 'Bayesian', 'min_data_in_leaf': 3, 'one_hot_max_size': 14, 'bagging_temperature': 2.2767981044472982}. Best is trial 2 with value: 0.9793093235398651.\u001b[0m\n"
     ]
    },
    {
     "name": "stdout",
     "output_type": "stream",
     "text": [
      "\n",
      "bestTest = 0.266041588\n",
      "bestIteration = 999\n",
      "\n",
      "Training on fold [0/5]\n",
      "\n",
      "bestTest = 0.2465027341\n",
      "bestIteration = 998\n",
      "\n",
      "Training on fold [1/5]\n",
      "\n",
      "bestTest = 0.1903085565\n",
      "bestIteration = 993\n",
      "\n",
      "Training on fold [2/5]\n",
      "\n",
      "bestTest = 0.2204509307\n",
      "bestIteration = 999\n",
      "\n",
      "Training on fold [3/5]\n",
      "\n",
      "bestTest = 0.2373353406\n",
      "bestIteration = 998\n",
      "\n",
      "Training on fold [4/5]\n"
     ]
    },
    {
     "name": "stderr",
     "output_type": "stream",
     "text": [
      "\u001b[32m[I 2022-06-12 18:23:51,068]\u001b[0m Trial 7 finished with value: 0.921571792441654 and parameters: {'l2_leaf_reg': 0.05196401395594459, 'colsample_bylevel': 0.3487451699448376, 'depth': 4, 'boosting_type': 'Ordered', 'bootstrap_type': 'Bayesian', 'min_data_in_leaf': 20, 'one_hot_max_size': 16, 'bagging_temperature': 8.011859508162637}. Best is trial 2 with value: 0.9793093235398651.\u001b[0m\n"
     ]
    },
    {
     "name": "stdout",
     "output_type": "stream",
     "text": [
      "\n",
      "bestTest = 0.2021075402\n",
      "bestIteration = 999\n",
      "\n",
      "Training on fold [0/5]\n",
      "\n",
      "bestTest = 0.3273815226\n",
      "bestIteration = 978\n",
      "\n",
      "Training on fold [1/5]\n",
      "\n",
      "bestTest = 0.2619008466\n",
      "bestIteration = 998\n",
      "\n",
      "Training on fold [2/5]\n",
      "\n",
      "bestTest = 0.3018044894\n",
      "bestIteration = 999\n",
      "\n",
      "Training on fold [3/5]\n",
      "\n",
      "bestTest = 0.3113053018\n",
      "bestIteration = 999\n",
      "\n",
      "Training on fold [4/5]\n"
     ]
    },
    {
     "name": "stderr",
     "output_type": "stream",
     "text": [
      "\u001b[32m[I 2022-06-12 18:24:10,685]\u001b[0m Trial 8 finished with value: 0.8840021916834498 and parameters: {'l2_leaf_reg': 0.47607997328032026, 'colsample_bylevel': 0.04767888915669937, 'depth': 9, 'boosting_type': 'Ordered', 'bootstrap_type': 'Bernoulli', 'min_data_in_leaf': 12, 'one_hot_max_size': 15, 'subsample': 0.9780409230100413}. Best is trial 2 with value: 0.9793093235398651.\u001b[0m\n"
     ]
    },
    {
     "name": "stdout",
     "output_type": "stream",
     "text": [
      "\n",
      "bestTest = 0.2930048725\n",
      "bestIteration = 999\n",
      "\n",
      "Training on fold [0/5]\n",
      "\n",
      "bestTest = 0.3534594719\n",
      "bestIteration = 999\n",
      "\n",
      "Training on fold [1/5]\n",
      "\n",
      "bestTest = 0.2963675978\n",
      "bestIteration = 988\n",
      "\n",
      "Training on fold [2/5]\n",
      "\n",
      "bestTest = 0.3221687498\n",
      "bestIteration = 990\n",
      "\n",
      "Training on fold [3/5]\n",
      "\n",
      "bestTest = 0.3349175727\n",
      "bestIteration = 999\n",
      "\n",
      "Training on fold [4/5]\n"
     ]
    },
    {
     "name": "stderr",
     "output_type": "stream",
     "text": [
      "\u001b[32m[I 2022-06-12 18:24:16,782]\u001b[0m Trial 9 finished with value: 0.8725580499940765 and parameters: {'l2_leaf_reg': 0.09967206374475279, 'colsample_bylevel': 0.060682609500150385, 'depth': 1, 'boosting_type': 'Plain', 'bootstrap_type': 'MVS', 'min_data_in_leaf': 8, 'one_hot_max_size': 12}. Best is trial 2 with value: 0.9793093235398651.\u001b[0m\n"
     ]
    },
    {
     "name": "stdout",
     "output_type": "stream",
     "text": [
      "\n",
      "bestTest = 0.3303775997\n",
      "bestIteration = 992\n",
      "\n",
      "Training on fold [0/5]\n",
      "\n",
      "bestTest = 0.1049647163\n",
      "bestIteration = 648\n",
      "\n",
      "Training on fold [1/5]\n",
      "\n",
      "bestTest = 0.01473969116\n",
      "bestIteration = 999\n",
      "\n",
      "Training on fold [2/5]\n",
      "\n",
      "bestTest = 0.06698413717\n",
      "bestIteration = 755\n",
      "\n",
      "Training on fold [3/5]\n",
      "\n",
      "bestTest = 0.09447988991\n",
      "bestIteration = 932\n",
      "\n",
      "Training on fold [4/5]\n"
     ]
    },
    {
     "name": "stderr",
     "output_type": "stream",
     "text": [
      "\u001b[32m[I 2022-06-12 18:24:35,389]\u001b[0m Trial 10 finished with value: 0.9716798957469495 and parameters: {'l2_leaf_reg': 0.17883233377859195, 'colsample_bylevel': 0.9723843610698428, 'depth': 7, 'boosting_type': 'Plain', 'bootstrap_type': 'Bayesian', 'min_data_in_leaf': 8, 'one_hot_max_size': 18, 'bagging_temperature': 9.994192954414476}. Best is trial 2 with value: 0.9793093235398651.\u001b[0m\n"
     ]
    },
    {
     "name": "stdout",
     "output_type": "stream",
     "text": [
      "\n",
      "bestTest = 0.06885382686\n",
      "bestIteration = 867\n",
      "\n",
      "Training on fold [0/5]\n",
      "\n",
      "bestTest = 0.1666625099\n",
      "bestIteration = 886\n",
      "\n",
      "Training on fold [1/5]\n",
      "\n",
      "bestTest = 0.02043727373\n",
      "bestIteration = 953\n",
      "\n",
      "Training on fold [2/5]\n",
      "\n",
      "bestTest = 0.07976586922\n",
      "bestIteration = 393\n",
      "\n",
      "Training on fold [3/5]\n",
      "\n",
      "bestTest = 0.1289810649\n",
      "bestIteration = 746\n",
      "\n",
      "Training on fold [4/5]\n"
     ]
    },
    {
     "name": "stderr",
     "output_type": "stream",
     "text": [
      "\u001b[32m[I 2022-06-12 18:26:53,177]\u001b[0m Trial 11 finished with value: 0.9727698140030802 and parameters: {'l2_leaf_reg': 0.012436792287039674, 'colsample_bylevel': 0.6662007911075584, 'depth': 8, 'boosting_type': 'Plain', 'bootstrap_type': 'MVS', 'min_data_in_leaf': 15, 'one_hot_max_size': 2}. Best is trial 2 with value: 0.9793093235398651.\u001b[0m\n"
     ]
    },
    {
     "name": "stdout",
     "output_type": "stream",
     "text": [
      "\n",
      "bestTest = 0.06561392909\n",
      "bestIteration = 384\n",
      "\n",
      "Training on fold [0/5]\n",
      "\n",
      "bestTest = 0.1404742783\n",
      "bestIteration = 999\n",
      "\n",
      "Training on fold [1/5]\n",
      "\n",
      "bestTest = 0.02503029172\n",
      "bestIteration = 961\n",
      "\n",
      "Training on fold [2/5]\n",
      "\n",
      "bestTest = 0.0847054914\n",
      "bestIteration = 671\n",
      "\n",
      "Training on fold [3/5]\n",
      "\n",
      "bestTest = 0.1107577334\n",
      "bestIteration = 944\n",
      "\n",
      "Training on fold [4/5]\n"
     ]
    },
    {
     "name": "stderr",
     "output_type": "stream",
     "text": [
      "\u001b[32m[I 2022-06-12 18:28:45,791]\u001b[0m Trial 12 finished with value: 0.9733132922639497 and parameters: {'l2_leaf_reg': 0.1262107362415816, 'colsample_bylevel': 0.6418360292015001, 'depth': 7, 'boosting_type': 'Plain', 'bootstrap_type': 'MVS', 'min_data_in_leaf': 15, 'one_hot_max_size': 2}. Best is trial 2 with value: 0.9793093235398651.\u001b[0m\n"
     ]
    },
    {
     "name": "stdout",
     "output_type": "stream",
     "text": [
      "\n",
      "bestTest = 0.05241092919\n",
      "bestIteration = 895\n",
      "\n",
      "Training on fold [0/5]\n",
      "\n",
      "bestTest = 0.104749615\n",
      "bestIteration = 369\n",
      "\n",
      "Training on fold [1/5]\n",
      "\n",
      "bestTest = 0.01198703133\n",
      "bestIteration = 996\n",
      "\n",
      "Training on fold [2/5]\n",
      "\n",
      "bestTest = 0.06038413993\n",
      "bestIteration = 366\n",
      "\n",
      "Training on fold [3/5]\n",
      "\n",
      "bestTest = 0.08554288768\n",
      "bestIteration = 287\n",
      "\n",
      "Training on fold [4/5]\n"
     ]
    },
    {
     "name": "stderr",
     "output_type": "stream",
     "text": [
      "\u001b[32m[I 2022-06-12 18:29:52,613]\u001b[0m Trial 13 finished with value: 0.9803992417959957 and parameters: {'l2_leaf_reg': 0.30512826788543596, 'colsample_bylevel': 0.9254423408217074, 'depth': 10, 'boosting_type': 'Plain', 'bootstrap_type': 'MVS', 'min_data_in_leaf': 16, 'one_hot_max_size': 8}. Best is trial 13 with value: 0.9803992417959957.\u001b[0m\n"
     ]
    },
    {
     "name": "stdout",
     "output_type": "stream",
     "text": [
      "\n",
      "bestTest = 0.04368150769\n",
      "bestIteration = 455\n",
      "\n",
      "Training on fold [0/5]\n",
      "\n",
      "bestTest = 0.09386924471\n",
      "bestIteration = 476\n",
      "\n",
      "Training on fold [1/5]\n",
      "\n",
      "bestTest = 0.01259992956\n",
      "bestIteration = 995\n",
      "\n",
      "Training on fold [2/5]\n",
      "\n",
      "bestTest = 0.06461523114\n",
      "bestIteration = 508\n",
      "\n",
      "Training on fold [3/5]\n",
      "\n",
      "bestTest = 0.08531232388\n",
      "bestIteration = 581\n",
      "\n",
      "Training on fold [4/5]\n"
     ]
    },
    {
     "name": "stderr",
     "output_type": "stream",
     "text": [
      "\u001b[32m[I 2022-06-12 18:30:50,202]\u001b[0m Trial 14 finished with value: 0.9782164435493425 and parameters: {'l2_leaf_reg': 0.8488931159736615, 'colsample_bylevel': 0.9737904072718172, 'depth': 10, 'boosting_type': 'Plain', 'bootstrap_type': 'MVS', 'min_data_in_leaf': 9, 'one_hot_max_size': 9}. Best is trial 13 with value: 0.9803992417959957.\u001b[0m\n"
     ]
    },
    {
     "name": "stdout",
     "output_type": "stream",
     "text": [
      "\n",
      "bestTest = 0.05165690362\n",
      "bestIteration = 903\n",
      "\n",
      "Training on fold [0/5]\n",
      "\n",
      "bestTest = 0.09826834463\n",
      "bestIteration = 309\n",
      "\n",
      "Training on fold [1/5]\n",
      "\n",
      "bestTest = 0.01253462702\n",
      "bestIteration = 985\n",
      "\n",
      "Training on fold [2/5]\n",
      "\n",
      "bestTest = 0.0526304231\n",
      "bestIteration = 340\n",
      "\n",
      "Training on fold [3/5]\n",
      "\n",
      "bestTest = 0.08395404363\n",
      "bestIteration = 300\n",
      "\n",
      "Training on fold [4/5]\n"
     ]
    },
    {
     "name": "stderr",
     "output_type": "stream",
     "text": [
      "\u001b[32m[I 2022-06-12 18:31:43,309]\u001b[0m Trial 15 finished with value: 0.9793034000710816 and parameters: {'l2_leaf_reg': 0.31025954294715385, 'colsample_bylevel': 0.8432371631179828, 'depth': 10, 'boosting_type': 'Plain', 'bootstrap_type': 'Bernoulli', 'min_data_in_leaf': 6, 'one_hot_max_size': 8, 'subsample': 0.908955967658458}. Best is trial 13 with value: 0.9803992417959957.\u001b[0m\n"
     ]
    },
    {
     "name": "stdout",
     "output_type": "stream",
     "text": [
      "\n",
      "bestTest = 0.05337716709\n",
      "bestIteration = 322\n",
      "\n",
      "Highest Accuracy: 0.9803992417959957\n",
      "Optimal Parameters:\n",
      "l2_leaf_reg:0.30512826788543596\n",
      "colsample_bylevel:0.9254423408217074\n",
      "depth:10\n",
      "boosting_type:Plain\n",
      "bootstrap_type:MVS\n",
      "min_data_in_leaf:16\n",
      "one_hot_max_size:8\n"
     ]
    }
   ],
   "source": [
    "classification_study = optuna.create_study(sampler=TPESampler(), direction=\"maximize\")\n",
    "classification_study.optimize(classification_objective, n_trials=20, timeout=600) \n",
    "trial = classification_study.best_trial\n",
    "\n",
    "print(f\"Highest Accuracy: {trial.value}\")\n",
    "print(\"Optimal Parameters:\")\n",
    "for key, val in trial.params.items():\n",
    "    print(f\"{key}:{val}\")"
   ]
  },
  {
   "cell_type": "code",
   "execution_count": 20,
   "id": "68428a0d",
   "metadata": {},
   "outputs": [
    {
     "data": {
      "text/plain": [
       "{'l2_leaf_reg': 0.30512826788543596,\n",
       " 'colsample_bylevel': 0.9254423408217074,\n",
       " 'depth': 10,\n",
       " 'boosting_type': 'Plain',\n",
       " 'bootstrap_type': 'MVS',\n",
       " 'min_data_in_leaf': 16,\n",
       " 'one_hot_max_size': 8}"
      ]
     },
     "execution_count": 20,
     "metadata": {},
     "output_type": "execute_result"
    }
   ],
   "source": [
    "trial.params"
   ]
  },
  {
   "cell_type": "markdown",
   "id": "0c0f584e",
   "metadata": {},
   "source": [
    "# Fit final model using new parameters"
   ]
  },
  {
   "cell_type": "code",
   "execution_count": 21,
   "id": "2033dbde",
   "metadata": {},
   "outputs": [
    {
     "name": "stdout",
     "output_type": "stream",
     "text": [
      "Training on fold [0/5]\n",
      "\n",
      "bestTest = 0.104749615\n",
      "bestIteration = 369\n",
      "\n",
      "Training on fold [1/5]\n",
      "\n",
      "bestTest = 0.01198703133\n",
      "bestIteration = 996\n",
      "\n",
      "Training on fold [2/5]\n",
      "\n",
      "bestTest = 0.06038413993\n",
      "bestIteration = 366\n",
      "\n",
      "Training on fold [3/5]\n",
      "\n",
      "bestTest = 0.08554288768\n",
      "bestIteration = 287\n",
      "\n",
      "Training on fold [4/5]\n",
      "\n",
      "bestTest = 0.04368150769\n",
      "bestIteration = 455\n",
      "\n"
     ]
    },
    {
     "data": {
      "text/html": [
       "<div>\n",
       "<style scoped>\n",
       "    .dataframe tbody tr th:only-of-type {\n",
       "        vertical-align: middle;\n",
       "    }\n",
       "\n",
       "    .dataframe tbody tr th {\n",
       "        vertical-align: top;\n",
       "    }\n",
       "\n",
       "    .dataframe thead th {\n",
       "        text-align: right;\n",
       "    }\n",
       "</style>\n",
       "<table border=\"1\" class=\"dataframe\">\n",
       "  <thead>\n",
       "    <tr style=\"text-align: right;\">\n",
       "      <th></th>\n",
       "      <th>iterations</th>\n",
       "      <th>test-Logloss-mean</th>\n",
       "      <th>test-Logloss-std</th>\n",
       "      <th>train-Logloss-mean</th>\n",
       "      <th>train-Logloss-std</th>\n",
       "      <th>test-AUC-mean</th>\n",
       "      <th>test-AUC-std</th>\n",
       "      <th>test-Accuracy-mean</th>\n",
       "      <th>test-Accuracy-std</th>\n",
       "      <th>train-Accuracy-mean</th>\n",
       "      <th>train-Accuracy-std</th>\n",
       "    </tr>\n",
       "  </thead>\n",
       "  <tbody>\n",
       "    <tr>\n",
       "      <th>0</th>\n",
       "      <td>0</td>\n",
       "      <td>0.648598</td>\n",
       "      <td>0.000612</td>\n",
       "      <td>0.644550</td>\n",
       "      <td>0.001606</td>\n",
       "      <td>0.949977</td>\n",
       "      <td>0.007862</td>\n",
       "      <td>0.876916</td>\n",
       "      <td>0.018222</td>\n",
       "      <td>0.910676</td>\n",
       "      <td>0.006770</td>\n",
       "    </tr>\n",
       "    <tr>\n",
       "      <th>1</th>\n",
       "      <td>1</td>\n",
       "      <td>0.615640</td>\n",
       "      <td>0.001964</td>\n",
       "      <td>0.608332</td>\n",
       "      <td>0.001585</td>\n",
       "      <td>0.963854</td>\n",
       "      <td>0.007795</td>\n",
       "      <td>0.898158</td>\n",
       "      <td>0.014901</td>\n",
       "      <td>0.927424</td>\n",
       "      <td>0.005825</td>\n",
       "    </tr>\n",
       "    <tr>\n",
       "      <th>2</th>\n",
       "      <td>2</td>\n",
       "      <td>0.578762</td>\n",
       "      <td>0.003692</td>\n",
       "      <td>0.566618</td>\n",
       "      <td>0.001472</td>\n",
       "      <td>0.969503</td>\n",
       "      <td>0.006744</td>\n",
       "      <td>0.907410</td>\n",
       "      <td>0.009202</td>\n",
       "      <td>0.941177</td>\n",
       "      <td>0.005500</td>\n",
       "    </tr>\n",
       "    <tr>\n",
       "      <th>3</th>\n",
       "      <td>3</td>\n",
       "      <td>0.548064</td>\n",
       "      <td>0.006247</td>\n",
       "      <td>0.532778</td>\n",
       "      <td>0.004039</td>\n",
       "      <td>0.971994</td>\n",
       "      <td>0.007266</td>\n",
       "      <td>0.912860</td>\n",
       "      <td>0.013842</td>\n",
       "      <td>0.947984</td>\n",
       "      <td>0.004246</td>\n",
       "    </tr>\n",
       "    <tr>\n",
       "      <th>4</th>\n",
       "      <td>4</td>\n",
       "      <td>0.518406</td>\n",
       "      <td>0.006578</td>\n",
       "      <td>0.499818</td>\n",
       "      <td>0.004606</td>\n",
       "      <td>0.973270</td>\n",
       "      <td>0.009443</td>\n",
       "      <td>0.917225</td>\n",
       "      <td>0.019796</td>\n",
       "      <td>0.952069</td>\n",
       "      <td>0.004166</td>\n",
       "    </tr>\n",
       "    <tr>\n",
       "      <th>...</th>\n",
       "      <td>...</td>\n",
       "      <td>...</td>\n",
       "      <td>...</td>\n",
       "      <td>...</td>\n",
       "      <td>...</td>\n",
       "      <td>...</td>\n",
       "      <td>...</td>\n",
       "      <td>...</td>\n",
       "      <td>...</td>\n",
       "      <td>...</td>\n",
       "      <td>...</td>\n",
       "    </tr>\n",
       "    <tr>\n",
       "      <th>995</th>\n",
       "      <td>995</td>\n",
       "      <td>0.063532</td>\n",
       "      <td>0.037691</td>\n",
       "      <td>0.001364</td>\n",
       "      <td>0.000038</td>\n",
       "      <td>0.996646</td>\n",
       "      <td>0.003996</td>\n",
       "      <td>0.980399</td>\n",
       "      <td>0.010596</td>\n",
       "      <td>1.000000</td>\n",
       "      <td>0.000000</td>\n",
       "    </tr>\n",
       "    <tr>\n",
       "      <th>996</th>\n",
       "      <td>996</td>\n",
       "      <td>0.063533</td>\n",
       "      <td>0.037691</td>\n",
       "      <td>0.001363</td>\n",
       "      <td>0.000039</td>\n",
       "      <td>0.996646</td>\n",
       "      <td>0.003996</td>\n",
       "      <td>0.980399</td>\n",
       "      <td>0.010596</td>\n",
       "      <td>1.000000</td>\n",
       "      <td>0.000000</td>\n",
       "    </tr>\n",
       "    <tr>\n",
       "      <th>997</th>\n",
       "      <td>997</td>\n",
       "      <td>0.063522</td>\n",
       "      <td>0.037691</td>\n",
       "      <td>0.001362</td>\n",
       "      <td>0.000040</td>\n",
       "      <td>0.996646</td>\n",
       "      <td>0.003996</td>\n",
       "      <td>0.980399</td>\n",
       "      <td>0.010596</td>\n",
       "      <td>1.000000</td>\n",
       "      <td>0.000000</td>\n",
       "    </tr>\n",
       "    <tr>\n",
       "      <th>998</th>\n",
       "      <td>998</td>\n",
       "      <td>0.063522</td>\n",
       "      <td>0.037691</td>\n",
       "      <td>0.001362</td>\n",
       "      <td>0.000040</td>\n",
       "      <td>0.996646</td>\n",
       "      <td>0.003996</td>\n",
       "      <td>0.980399</td>\n",
       "      <td>0.010596</td>\n",
       "      <td>1.000000</td>\n",
       "      <td>0.000000</td>\n",
       "    </tr>\n",
       "    <tr>\n",
       "      <th>999</th>\n",
       "      <td>999</td>\n",
       "      <td>0.063522</td>\n",
       "      <td>0.037691</td>\n",
       "      <td>0.001362</td>\n",
       "      <td>0.000040</td>\n",
       "      <td>0.996646</td>\n",
       "      <td>0.003996</td>\n",
       "      <td>0.980399</td>\n",
       "      <td>0.010596</td>\n",
       "      <td>1.000000</td>\n",
       "      <td>0.000000</td>\n",
       "    </tr>\n",
       "  </tbody>\n",
       "</table>\n",
       "<p>1000 rows × 11 columns</p>\n",
       "</div>"
      ],
      "text/plain": [
       "     iterations  test-Logloss-mean  test-Logloss-std  train-Logloss-mean  \\\n",
       "0             0           0.648598          0.000612            0.644550   \n",
       "1             1           0.615640          0.001964            0.608332   \n",
       "2             2           0.578762          0.003692            0.566618   \n",
       "3             3           0.548064          0.006247            0.532778   \n",
       "4             4           0.518406          0.006578            0.499818   \n",
       "..          ...                ...               ...                 ...   \n",
       "995         995           0.063532          0.037691            0.001364   \n",
       "996         996           0.063533          0.037691            0.001363   \n",
       "997         997           0.063522          0.037691            0.001362   \n",
       "998         998           0.063522          0.037691            0.001362   \n",
       "999         999           0.063522          0.037691            0.001362   \n",
       "\n",
       "     train-Logloss-std  test-AUC-mean  test-AUC-std  test-Accuracy-mean  \\\n",
       "0             0.001606       0.949977      0.007862            0.876916   \n",
       "1             0.001585       0.963854      0.007795            0.898158   \n",
       "2             0.001472       0.969503      0.006744            0.907410   \n",
       "3             0.004039       0.971994      0.007266            0.912860   \n",
       "4             0.004606       0.973270      0.009443            0.917225   \n",
       "..                 ...            ...           ...                 ...   \n",
       "995           0.000038       0.996646      0.003996            0.980399   \n",
       "996           0.000039       0.996646      0.003996            0.980399   \n",
       "997           0.000040       0.996646      0.003996            0.980399   \n",
       "998           0.000040       0.996646      0.003996            0.980399   \n",
       "999           0.000040       0.996646      0.003996            0.980399   \n",
       "\n",
       "     test-Accuracy-std  train-Accuracy-mean  train-Accuracy-std  \n",
       "0             0.018222             0.910676            0.006770  \n",
       "1             0.014901             0.927424            0.005825  \n",
       "2             0.009202             0.941177            0.005500  \n",
       "3             0.013842             0.947984            0.004246  \n",
       "4             0.019796             0.952069            0.004166  \n",
       "..                 ...                  ...                 ...  \n",
       "995           0.010596             1.000000            0.000000  \n",
       "996           0.010596             1.000000            0.000000  \n",
       "997           0.010596             1.000000            0.000000  \n",
       "998           0.010596             1.000000            0.000000  \n",
       "999           0.010596             1.000000            0.000000  \n",
       "\n",
       "[1000 rows x 11 columns]"
      ]
     },
     "execution_count": 21,
     "metadata": {},
     "output_type": "execute_result"
    }
   ],
   "source": [
    "new_params = trial.params.copy()\n",
    "new_params['loss_function'] = 'Logloss'\n",
    "new_params['custom_loss'] = ['AUC','Accuracy']\n",
    "\n",
    "cv_data = cv(\n",
    "        params = new_params,\n",
    "        pool = Pool(x, label=y, cat_features=cat_features),\n",
    "        fold_count=5,\n",
    "        shuffle=True,\n",
    "        partition_random_seed=0,\n",
    "        plot=False,\n",
    "        stratified=False,\n",
    "        verbose=False)\n",
    "\n",
    "cv_data"
   ]
  },
  {
   "cell_type": "code",
   "execution_count": 22,
   "id": "effcf871",
   "metadata": {},
   "outputs": [
    {
     "name": "stdout",
     "output_type": "stream",
     "text": [
      "0:\tlearn: 0.6735545\ttotal: 14.6ms\tremaining: 2.32s\n",
      "100:\tlearn: 0.1478351\ttotal: 969ms\tremaining: 566ms\n",
      "159:\tlearn: 0.0900104\ttotal: 1.59s\tremaining: 0us\n"
     ]
    },
    {
     "data": {
      "text/plain": [
       "<catboost.core.CatBoostClassifier at 0x21037e32640>"
      ]
     },
     "execution_count": 22,
     "metadata": {},
     "output_type": "execute_result"
    }
   ],
   "source": [
    "final_params = new_params.copy()\n",
    "final_params['iterations'] = np.argmax(cv_data['test-Accuracy-mean'])\n",
    "final_params['cat_features'] = cat_features\n",
    "\n",
    "final_model = CatBoostClassifier(**final_params)\n",
    "\n",
    "final_model.fit(x,y,verbose=100)"
   ]
  },
  {
   "cell_type": "code",
   "execution_count": 23,
   "id": "8e553f5c",
   "metadata": {},
   "outputs": [],
   "source": [
    "# Export model\n",
    "model_name = f'heart_disease_model'\n",
    "final_model.save_model('heart_disease_model')"
   ]
  },
  {
   "cell_type": "code",
   "execution_count": null,
   "id": "7293095f",
   "metadata": {},
   "outputs": [],
   "source": []
  }
 ],
 "metadata": {
  "kernelspec": {
   "display_name": "Python 3 (ipykernel)",
   "language": "python",
   "name": "python3"
  },
  "language_info": {
   "codemirror_mode": {
    "name": "ipython",
    "version": 3
   },
   "file_extension": ".py",
   "mimetype": "text/x-python",
   "name": "python",
   "nbconvert_exporter": "python",
   "pygments_lexer": "ipython3",
   "version": "3.9.11"
  }
 },
 "nbformat": 4,
 "nbformat_minor": 5
}
